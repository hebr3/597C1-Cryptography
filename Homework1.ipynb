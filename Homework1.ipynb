{
 "cells": [
  {
   "cell_type": "markdown",
   "metadata": {},
   "source": [
    "# Homework 1\n",
    "\n",
    "### P-1.4 a,b,c (10pts)\n",
    "For each of the following assets, assign a low, moderate, or high impact level for the loss of confidentiality, availability, and integrity, respectively. Justify your answers.\n",
    "\n",
    "* A student maintaining a blog to post public information."
   ]
  },
  {
   "cell_type": "code",
   "execution_count": null,
   "metadata": {},
   "outputs": [],
   "source": []
  },
  {
   "cell_type": "markdown",
   "metadata": {},
   "source": [
    "* An examination section of a university that is managing sensitive information about exam papers.\n"
   ]
  },
  {
   "cell_type": "code",
   "execution_count": null,
   "metadata": {},
   "outputs": [],
   "source": []
  },
  {
   "cell_type": "markdown",
   "metadata": {},
   "source": [
    "* An information system in a pathological laboratory maintaining the patient data."
   ]
  },
  {
   "cell_type": "code",
   "execution_count": null,
   "metadata": {},
   "outputs": [],
   "source": []
  },
  {
   "cell_type": "markdown",
   "metadata": {},
   "source": [
    "### Ceasar Cipher (10pts)\n",
    "\n",
    "Write a function that will take an plaintext string and offset value and return a cipher text"
   ]
  },
  {
   "cell_type": "code",
   "execution_count": 1,
   "metadata": {},
   "outputs": [],
   "source": [
    "def ceasar(plaintext, offset):\n",
    "    # Your code here\n",
    "    #\n",
    "    return plaintext\n",
    "\n",
    "print(ceasar(\"Hello world\", 3) == \"KHOORZRUOG\")\n",
    "print(ceasar(\"Test again\", 13) == \"GRFGNTNVA\")"
   ]
  },
  {
   "cell_type": "markdown",
   "metadata": {},
   "source": [
    "### Vigenere Cipher (10pts)\n",
    "\n",
    "Write a function that will take an plaintext string and key string value and return a cipher text"
   ]
  },
  {
   "cell_type": "code",
   "execution_count": 2,
   "metadata": {},
   "outputs": [],
   "source": [
    "def vigenere(plaintext, key):\n",
    "    # Your code here\n",
    "    #\n",
    "    return plaintext\n",
    "\n",
    "print(vigenere(\"Hello world\", \"C\") == \"KHOORZRUOG\")\n",
    "print(vigenere(\"We are discovered save yourself\", \"DECEPTIVE\") \n",
    "      == \"ZICVTWQNGRZGVTWAVZHCQYGLMGJ\")"
   ]
  },
  {
   "cell_type": "markdown",
   "metadata": {},
   "source": [
    "### Playfair Cipher (10pts)\n",
    "\n",
    "Write a function that will take an plaintext string and key string value and return a cipher text"
   ]
  },
  {
   "cell_type": "code",
   "execution_count": 3,
   "metadata": {},
   "outputs": [],
   "source": [
    "def playfair(plaintext, key):\n",
    "    # Your code\n",
    "    #\n",
    "    return plaintext\n",
    "\n",
    "print(vigenere(\"Hello world\", \"HELLO\") == \"ELFFEYETDM\")\n",
    "print(vigenere(\"We are shadows\", \"HIDE\") == \"YIIUDTIHENXR\")"
   ]
  }
 ],
 "metadata": {
  "kernelspec": {
   "display_name": "Python 3",
   "language": "python",
   "name": "python3"
  },
  "language_info": {
   "codemirror_mode": {
    "name": "ipython",
    "version": 3
   },
   "file_extension": ".py",
   "mimetype": "text/x-python",
   "name": "python",
   "nbconvert_exporter": "python",
   "pygments_lexer": "ipython3",
   "version": "3.6.10"
  }
 },
 "nbformat": 4,
 "nbformat_minor": 2
}
